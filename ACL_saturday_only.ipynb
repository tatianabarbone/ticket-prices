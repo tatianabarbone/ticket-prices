{
  "nbformat": 4,
  "nbformat_minor": 0,
  "metadata": {
    "colab": {
      "name": "ACL - saturday only",
      "provenance": [],
      "authorship_tag": "ABX9TyOQCyIqU3LbKrHnwuELMtrp",
      "include_colab_link": true
    },
    "kernelspec": {
      "name": "python3",
      "display_name": "Python 3"
    },
    "language_info": {
      "name": "python"
    }
  },
  "cells": [
    {
      "cell_type": "markdown",
      "metadata": {
        "id": "view-in-github",
        "colab_type": "text"
      },
      "source": [
        "<a href=\"https://colab.research.google.com/github/tatianabarbone/ticket-prices/blob/main/ACL_saturday_only.ipynb\" target=\"_parent\"><img src=\"https://colab.research.google.com/assets/colab-badge.svg\" alt=\"Open In Colab\"/></a>"
      ]
    },
    {
      "cell_type": "markdown",
      "metadata": {
        "id": "zMn1eRFVdBzU"
      },
      "source": [
        "Ticket data for SATURDAY ONLY passes."
      ]
    },
    {
      "cell_type": "code",
      "metadata": {
        "colab": {
          "base_uri": "https://localhost:8080/",
          "height": 419
        },
        "id": "_y5rLZwZy7lM",
        "outputId": "a7465a51-2f11-4bb2-b427-47838b499204"
      },
      "source": [
        "import pandas as pd\n",
        "df = pd.read_csv('saturday.csv')\n",
        "df"
      ],
      "execution_count": 2,
      "outputs": [
        {
          "output_type": "execute_result",
          "data": {
            "text/html": [
              "<div>\n",
              "<style scoped>\n",
              "    .dataframe tbody tr th:only-of-type {\n",
              "        vertical-align: middle;\n",
              "    }\n",
              "\n",
              "    .dataframe tbody tr th {\n",
              "        vertical-align: top;\n",
              "    }\n",
              "\n",
              "    .dataframe thead th {\n",
              "        text-align: right;\n",
              "    }\n",
              "</style>\n",
              "<table border=\"1\" class=\"dataframe\">\n",
              "  <thead>\n",
              "    <tr style=\"text-align: right;\">\n",
              "      <th></th>\n",
              "      <th>date</th>\n",
              "      <th>time</th>\n",
              "      <th>min price</th>\n",
              "      <th>num tickets left</th>\n",
              "    </tr>\n",
              "  </thead>\n",
              "  <tbody>\n",
              "    <tr>\n",
              "      <th>0</th>\n",
              "      <td>10/5/21</td>\n",
              "      <td>20:45</td>\n",
              "      <td>152.0</td>\n",
              "      <td>227</td>\n",
              "    </tr>\n",
              "    <tr>\n",
              "      <th>1</th>\n",
              "      <td>10/5/21</td>\n",
              "      <td>21:15</td>\n",
              "      <td>150.0</td>\n",
              "      <td>225</td>\n",
              "    </tr>\n",
              "    <tr>\n",
              "      <th>2</th>\n",
              "      <td>10/5/21</td>\n",
              "      <td>21:45</td>\n",
              "      <td>150.0</td>\n",
              "      <td>223</td>\n",
              "    </tr>\n",
              "    <tr>\n",
              "      <th>3</th>\n",
              "      <td>10/6/21</td>\n",
              "      <td>7:55</td>\n",
              "      <td>150.0</td>\n",
              "      <td>174</td>\n",
              "    </tr>\n",
              "    <tr>\n",
              "      <th>4</th>\n",
              "      <td>10/6/21</td>\n",
              "      <td>8:27</td>\n",
              "      <td>150.0</td>\n",
              "      <td>172</td>\n",
              "    </tr>\n",
              "    <tr>\n",
              "      <th>...</th>\n",
              "      <td>...</td>\n",
              "      <td>...</td>\n",
              "      <td>...</td>\n",
              "      <td>...</td>\n",
              "    </tr>\n",
              "    <tr>\n",
              "      <th>180</th>\n",
              "      <td>10/9/21</td>\n",
              "      <td>17:59</td>\n",
              "      <td>120.0</td>\n",
              "      <td>88</td>\n",
              "    </tr>\n",
              "    <tr>\n",
              "      <th>181</th>\n",
              "      <td>10/9/21</td>\n",
              "      <td>18:14</td>\n",
              "      <td>100.0</td>\n",
              "      <td>84</td>\n",
              "    </tr>\n",
              "    <tr>\n",
              "      <th>182</th>\n",
              "      <td>10/9/21</td>\n",
              "      <td>18:29</td>\n",
              "      <td>120.0</td>\n",
              "      <td>82</td>\n",
              "    </tr>\n",
              "    <tr>\n",
              "      <th>183</th>\n",
              "      <td>10/9/21</td>\n",
              "      <td>18:44</td>\n",
              "      <td>120.0</td>\n",
              "      <td>82</td>\n",
              "    </tr>\n",
              "    <tr>\n",
              "      <th>184</th>\n",
              "      <td>10/9/21</td>\n",
              "      <td>18:59</td>\n",
              "      <td>120.0</td>\n",
              "      <td>80</td>\n",
              "    </tr>\n",
              "  </tbody>\n",
              "</table>\n",
              "<p>185 rows × 4 columns</p>\n",
              "</div>"
            ],
            "text/plain": [
              "        date   time  min price  num tickets left\n",
              "0    10/5/21  20:45      152.0               227\n",
              "1    10/5/21  21:15      150.0               225\n",
              "2    10/5/21  21:45      150.0               223\n",
              "3    10/6/21   7:55      150.0               174\n",
              "4    10/6/21   8:27      150.0               172\n",
              "..       ...    ...        ...               ...\n",
              "180  10/9/21  17:59      120.0                88\n",
              "181  10/9/21  18:14      100.0                84\n",
              "182  10/9/21  18:29      120.0                82\n",
              "183  10/9/21  18:44      120.0                82\n",
              "184  10/9/21  18:59      120.0                80\n",
              "\n",
              "[185 rows x 4 columns]"
            ]
          },
          "metadata": {},
          "execution_count": 2
        }
      ]
    },
    {
      "cell_type": "markdown",
      "metadata": {
        "id": "I9XWgdRScOq9"
      },
      "source": [
        "To get a better idea of the distribution of the minimum ticket prices, we'll use the describe function to show the 5-number summary."
      ]
    },
    {
      "cell_type": "code",
      "metadata": {
        "colab": {
          "base_uri": "https://localhost:8080/"
        },
        "id": "NzDXZUt3Na5U",
        "outputId": "c4276f39-7a59-4b28-c5c3-1c29469fd88a"
      },
      "source": [
        "import numpy as np\n",
        "\n",
        "df['min price'].describe()"
      ],
      "execution_count": 3,
      "outputs": [
        {
          "output_type": "execute_result",
          "data": {
            "text/plain": [
              "count    185.000000\n",
              "mean     146.214757\n",
              "std        9.910702\n",
              "min      100.000000\n",
              "25%      140.000000\n",
              "50%      150.000000\n",
              "75%      152.880000\n",
              "max      169.000000\n",
              "Name: min price, dtype: float64"
            ]
          },
          "metadata": {},
          "execution_count": 3
        }
      ]
    },
    {
      "cell_type": "markdown",
      "metadata": {
        "id": "EYoxXzexNnQR"
      },
      "source": [
        "This box-and-whisker plot shows the spread of the minimum ticket price data."
      ]
    },
    {
      "cell_type": "code",
      "metadata": {
        "colab": {
          "base_uri": "https://localhost:8080/",
          "height": 298
        },
        "id": "iVCVizsbJh84",
        "outputId": "127ef9d6-b1f3-4913-e10d-54d72dd276eb"
      },
      "source": [
        "ax = df['min price'].plot.box()\n",
        "ax.set_ylabel('dollars')\n",
        "ax.set_title(\"SATURDAY ONLY Minimum Ticket Price\")"
      ],
      "execution_count": 8,
      "outputs": [
        {
          "output_type": "execute_result",
          "data": {
            "text/plain": [
              "Text(0.5, 1.0, 'SATURDAY ONLY Minimum Ticket Price')"
            ]
          },
          "metadata": {},
          "execution_count": 8
        },
        {
          "output_type": "display_data",
          "data": {
            "image/png": "[encoded data removed]",
            "text/plain": [
              "<Figure size 432x288 with 1 Axes>"
            ]
          },
          "metadata": {
            "needs_background": "light"
          }
        }
      ]
    },
    {
      "cell_type": "markdown",
      "metadata": {
        "id": "PxBacxs6jVrw"
      },
      "source": [
        "We've got two outliers!"
      ]
    },
    {
      "cell_type": "markdown",
      "metadata": {
        "id": "HKOAuv71N2uz"
      },
      "source": [
        "When was the best time to buy a ticket?"
      ]
    },
    {
      "cell_type": "code",
      "metadata": {
        "colab": {
          "base_uri": "https://localhost:8080/",
          "height": 80
        },
        "id": "nDf_6HqJaCd6",
        "outputId": "427e4aad-e1ce-4c0d-c14b-6466fa27dc3f"
      },
      "source": [
        "min_data = df[df['min price'] == df['min price'].min()]\n",
        "min_data"
      ],
      "execution_count": 5,
      "outputs": [
        {
          "output_type": "execute_result",
          "data": {
            "text/html": [
              "<div>\n",
              "<style scoped>\n",
              "    .dataframe tbody tr th:only-of-type {\n",
              "        vertical-align: middle;\n",
              "    }\n",
              "\n",
              "    .dataframe tbody tr th {\n",
              "        vertical-align: top;\n",
              "    }\n",
              "\n",
              "    .dataframe thead th {\n",
              "        text-align: right;\n",
              "    }\n",
              "</style>\n",
              "<table border=\"1\" class=\"dataframe\">\n",
              "  <thead>\n",
              "    <tr style=\"text-align: right;\">\n",
              "      <th></th>\n",
              "      <th>date</th>\n",
              "      <th>time</th>\n",
              "      <th>min price</th>\n",
              "      <th>num tickets left</th>\n",
              "    </tr>\n",
              "  </thead>\n",
              "  <tbody>\n",
              "    <tr>\n",
              "      <th>181</th>\n",
              "      <td>10/9/21</td>\n",
              "      <td>18:14</td>\n",
              "      <td>100.0</td>\n",
              "      <td>84</td>\n",
              "    </tr>\n",
              "  </tbody>\n",
              "</table>\n",
              "</div>"
            ],
            "text/plain": [
              "        date   time  min price  num tickets left\n",
              "181  10/9/21  18:14      100.0                84"
            ]
          },
          "metadata": {},
          "execution_count": 5
        }
      ]
    },
    {
      "cell_type": "code",
      "metadata": {
        "colab": {
          "base_uri": "https://localhost:8080/"
        },
        "id": "i0BKR3tWaycy",
        "outputId": "4e5f4e9a-7211-4585-c6f4-890df9d84847"
      },
      "source": [
        "first_min = min_data.iloc[0]\n",
        "first_min"
      ],
      "execution_count": 6,
      "outputs": [
        {
          "output_type": "execute_result",
          "data": {
            "text/plain": [
              "date                10/9/21\n",
              "time                  18:14\n",
              "min price               100\n",
              "num tickets left         84\n",
              "Name: 181, dtype: object"
            ]
          },
          "metadata": {},
          "execution_count": 6
        }
      ]
    },
    {
      "cell_type": "markdown",
      "metadata": {
        "id": "6JMWxz9RTUDA"
      },
      "source": [
        "In a more human-readable format:"
      ]
    },
    {
      "cell_type": "code",
      "metadata": {
        "colab": {
          "base_uri": "https://localhost:8080/"
        },
        "id": "5gIl5atS0Llz",
        "outputId": "88158f25-f8b6-45b5-ff7f-12ddedf8a047"
      },
      "source": [
        "print(\"The lowest selling price for a SATURDAY ONLY ticket from 10/5 to 10/9 was on\", \n",
        "      first_min['date'], \"at\", first_min['time'], \"for $\", first_min['min price'], \"when there were\", first_min['num tickets left'], \"tickets left.\")"
      ],
      "execution_count": 9,
      "outputs": [
        {
          "output_type": "stream",
          "name": "stdout",
          "text": [
            "The lowest selling price for a SATURDAY ONLY ticket from 10/5 to 10/9 was on 10/9/21 at 18:14 for $ 100.0 when there were 84 tickets left.\n"
          ]
        }
      ]
    }
  ]
}