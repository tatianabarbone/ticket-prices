{
  "nbformat": 4,
  "nbformat_minor": 0,
  "metadata": {
    "colab": {
      "name": "ACL - sunday only",
      "provenance": [],
      "authorship_tag": "ABX9TyN7kqtE0Nsgb7dlUguvDzfW",
      "include_colab_link": true
    },
    "kernelspec": {
      "name": "python3",
      "display_name": "Python 3"
    },
    "language_info": {
      "name": "python"
    }
  },
  "cells": [
    {
      "cell_type": "markdown",
      "metadata": {
        "id": "view-in-github",
        "colab_type": "text"
      },
      "source": [
        "<a href=\"https://colab.research.google.com/github/tatianabarbone/ticket-prices/blob/main/ACL_sunday_only.ipynb\" target=\"_parent\"><img src=\"https://colab.research.google.com/assets/colab-badge.svg\" alt=\"Open In Colab\"/></a>"
      ]
    },
    {
      "cell_type": "markdown",
      "metadata": {
        "id": "zMn1eRFVdBzU"
      },
      "source": [
        "Ticket data for SUNDAY ONLY passes."
      ]
    },
    {
      "cell_type": "code",
      "metadata": {
        "colab": {
          "base_uri": "https://localhost:8080/",
          "height": 419
        },
        "id": "_y5rLZwZy7lM",
        "outputId": "38831067-d1b4-40d5-db77-c0b89d50d1f2"
      },
      "source": [
        "import pandas as pd\n",
        "df = pd.read_csv('sunday.csv')\n",
        "df"
      ],
      "execution_count": 1,
      "outputs": [
        {
          "output_type": "execute_result",
          "data": {
            "text/html": [
              "<div>\n",
              "<style scoped>\n",
              "    .dataframe tbody tr th:only-of-type {\n",
              "        vertical-align: middle;\n",
              "    }\n",
              "\n",
              "    .dataframe tbody tr th {\n",
              "        vertical-align: top;\n",
              "    }\n",
              "\n",
              "    .dataframe thead th {\n",
              "        text-align: right;\n",
              "    }\n",
              "</style>\n",
              "<table border=\"1\" class=\"dataframe\">\n",
              "  <thead>\n",
              "    <tr style=\"text-align: right;\">\n",
              "      <th></th>\n",
              "      <th>date</th>\n",
              "      <th>time</th>\n",
              "      <th>min price</th>\n",
              "      <th>num tickets left</th>\n",
              "    </tr>\n",
              "  </thead>\n",
              "  <tbody>\n",
              "    <tr>\n",
              "      <th>0</th>\n",
              "      <td>10/5/21</td>\n",
              "      <td>20:45</td>\n",
              "      <td>91.91</td>\n",
              "      <td>341</td>\n",
              "    </tr>\n",
              "    <tr>\n",
              "      <th>1</th>\n",
              "      <td>10/5/21</td>\n",
              "      <td>21:15</td>\n",
              "      <td>92.92</td>\n",
              "      <td>339</td>\n",
              "    </tr>\n",
              "    <tr>\n",
              "      <th>2</th>\n",
              "      <td>10/5/21</td>\n",
              "      <td>21:45</td>\n",
              "      <td>92.92</td>\n",
              "      <td>337</td>\n",
              "    </tr>\n",
              "    <tr>\n",
              "      <th>3</th>\n",
              "      <td>10/6/21</td>\n",
              "      <td>7:55</td>\n",
              "      <td>90.90</td>\n",
              "      <td>295</td>\n",
              "    </tr>\n",
              "    <tr>\n",
              "      <th>4</th>\n",
              "      <td>10/6/21</td>\n",
              "      <td>8:27</td>\n",
              "      <td>90.90</td>\n",
              "      <td>295</td>\n",
              "    </tr>\n",
              "    <tr>\n",
              "      <th>...</th>\n",
              "      <td>...</td>\n",
              "      <td>...</td>\n",
              "      <td>...</td>\n",
              "      <td>...</td>\n",
              "    </tr>\n",
              "    <tr>\n",
              "      <th>209</th>\n",
              "      <td>10/10/21</td>\n",
              "      <td>16:40</td>\n",
              "      <td>44.00</td>\n",
              "      <td>53</td>\n",
              "    </tr>\n",
              "    <tr>\n",
              "      <th>210</th>\n",
              "      <td>10/10/21</td>\n",
              "      <td>17:10</td>\n",
              "      <td>44.00</td>\n",
              "      <td>43</td>\n",
              "    </tr>\n",
              "    <tr>\n",
              "      <th>211</th>\n",
              "      <td>10/10/21</td>\n",
              "      <td>17:40</td>\n",
              "      <td>49.50</td>\n",
              "      <td>15</td>\n",
              "    </tr>\n",
              "    <tr>\n",
              "      <th>212</th>\n",
              "      <td>10/10/21</td>\n",
              "      <td>18:10</td>\n",
              "      <td>40.00</td>\n",
              "      <td>13</td>\n",
              "    </tr>\n",
              "    <tr>\n",
              "      <th>213</th>\n",
              "      <td>10/10/21</td>\n",
              "      <td>18:40</td>\n",
              "      <td>90.00</td>\n",
              "      <td>10</td>\n",
              "    </tr>\n",
              "  </tbody>\n",
              "</table>\n",
              "<p>214 rows × 4 columns</p>\n",
              "</div>"
            ],
            "text/plain": [
              "         date   time  min price  num tickets left\n",
              "0     10/5/21  20:45      91.91               341\n",
              "1     10/5/21  21:15      92.92               339\n",
              "2     10/5/21  21:45      92.92               337\n",
              "3     10/6/21   7:55      90.90               295\n",
              "4     10/6/21   8:27      90.90               295\n",
              "..        ...    ...        ...               ...\n",
              "209  10/10/21  16:40      44.00                53\n",
              "210  10/10/21  17:10      44.00                43\n",
              "211  10/10/21  17:40      49.50                15\n",
              "212  10/10/21  18:10      40.00                13\n",
              "213  10/10/21  18:40      90.00                10\n",
              "\n",
              "[214 rows x 4 columns]"
            ]
          },
          "metadata": {},
          "execution_count": 1
        }
      ]
    },
    {
      "cell_type": "markdown",
      "metadata": {
        "id": "I9XWgdRScOq9"
      },
      "source": [
        "To get a better idea of the distribution of the minimum ticket prices, we'll use the describe function to show the 5-number summary."
      ]
    },
    {
      "cell_type": "code",
      "metadata": {
        "colab": {
          "base_uri": "https://localhost:8080/"
        },
        "id": "NzDXZUt3Na5U",
        "outputId": "d4364836-95be-410a-ce94-30d6bc7cb824"
      },
      "source": [
        "import numpy as np\n",
        "\n",
        "df['min price'].describe()"
      ],
      "execution_count": 3,
      "outputs": [
        {
          "output_type": "execute_result",
          "data": {
            "text/plain": [
              "count    214.000000\n",
              "mean      91.700935\n",
              "std       11.516199\n",
              "min       40.000000\n",
              "25%       90.000000\n",
              "50%       94.000000\n",
              "75%       99.000000\n",
              "max      109.780000\n",
              "Name: min price, dtype: float64"
            ]
          },
          "metadata": {},
          "execution_count": 3
        }
      ]
    },
    {
      "cell_type": "markdown",
      "metadata": {
        "id": "EYoxXzexNnQR"
      },
      "source": [
        "This box-and-whisker plot shows the spread of the minimum ticket price data."
      ]
    },
    {
      "cell_type": "code",
      "metadata": {
        "colab": {
          "base_uri": "https://localhost:8080/",
          "height": 298
        },
        "id": "iVCVizsbJh84",
        "outputId": "7d892f29-f3ee-4f5b-b932-2a6de114efc0"
      },
      "source": [
        "ax = df['min price'].plot.box()\n",
        "ax.set_ylabel('dollars')\n",
        "ax.set_title(\"SUNDAY ONLY Minimum Ticket Price\")"
      ],
      "execution_count": 4,
      "outputs": [
        {
          "output_type": "execute_result",
          "data": {
            "text/plain": [
              "Text(0.5, 1.0, 'SUNDAY ONLY Minimum Ticket Price')"
            ]
          },
          "metadata": {},
          "execution_count": 4
        },
        {
          "output_type": "display_data",
          "data": {
            "image/png": "[encoded data removed]",
            "text/plain": [
              "<Figure size 432x288 with 1 Axes>"
            ]
          },
          "metadata": {
            "needs_background": "light"
          }
        }
      ]
    },
    {
      "cell_type": "markdown",
      "metadata": {
        "id": "PxBacxs6jVrw"
      },
      "source": [
        "We've got...quite a few outliers!"
      ]
    },
    {
      "cell_type": "markdown",
      "metadata": {
        "id": "HKOAuv71N2uz"
      },
      "source": [
        "When was the best time to buy a ticket?"
      ]
    },
    {
      "cell_type": "code",
      "metadata": {
        "colab": {
          "base_uri": "https://localhost:8080/",
          "height": 80
        },
        "id": "nDf_6HqJaCd6",
        "outputId": "15e98b1e-259c-4328-f264-051fe9d0b1f5"
      },
      "source": [
        "min_data = df[df['min price'] == df['min price'].min()]\n",
        "min_data"
      ],
      "execution_count": 5,
      "outputs": [
        {
          "output_type": "execute_result",
          "data": {
            "text/html": [
              "<div>\n",
              "<style scoped>\n",
              "    .dataframe tbody tr th:only-of-type {\n",
              "        vertical-align: middle;\n",
              "    }\n",
              "\n",
              "    .dataframe tbody tr th {\n",
              "        vertical-align: top;\n",
              "    }\n",
              "\n",
              "    .dataframe thead th {\n",
              "        text-align: right;\n",
              "    }\n",
              "</style>\n",
              "<table border=\"1\" class=\"dataframe\">\n",
              "  <thead>\n",
              "    <tr style=\"text-align: right;\">\n",
              "      <th></th>\n",
              "      <th>date</th>\n",
              "      <th>time</th>\n",
              "      <th>min price</th>\n",
              "      <th>num tickets left</th>\n",
              "    </tr>\n",
              "  </thead>\n",
              "  <tbody>\n",
              "    <tr>\n",
              "      <th>212</th>\n",
              "      <td>10/10/21</td>\n",
              "      <td>18:10</td>\n",
              "      <td>40.0</td>\n",
              "      <td>13</td>\n",
              "    </tr>\n",
              "  </tbody>\n",
              "</table>\n",
              "</div>"
            ],
            "text/plain": [
              "         date   time  min price  num tickets left\n",
              "212  10/10/21  18:10       40.0                13"
            ]
          },
          "metadata": {},
          "execution_count": 5
        }
      ]
    },
    {
      "cell_type": "code",
      "metadata": {
        "colab": {
          "base_uri": "https://localhost:8080/"
        },
        "id": "i0BKR3tWaycy",
        "outputId": "4f313409-7030-41d5-b0a5-269a21a6dcc1"
      },
      "source": [
        "first_min = min_data.iloc[0]\n",
        "first_min"
      ],
      "execution_count": 6,
      "outputs": [
        {
          "output_type": "execute_result",
          "data": {
            "text/plain": [
              "date                10/10/21\n",
              "time                   18:10\n",
              "min price                 40\n",
              "num tickets left          13\n",
              "Name: 212, dtype: object"
            ]
          },
          "metadata": {},
          "execution_count": 6
        }
      ]
    },
    {
      "cell_type": "markdown",
      "metadata": {
        "id": "6JMWxz9RTUDA"
      },
      "source": [
        "In a more human-readable format:"
      ]
    },
    {
      "cell_type": "code",
      "metadata": {
        "colab": {
          "base_uri": "https://localhost:8080/"
        },
        "id": "5gIl5atS0Llz",
        "outputId": "1dc36675-fa64-469e-c853-337dbac218e2"
      },
      "source": [
        "print(\"The lowest selling price for a SUNDAY ONLY ticket from 10/5 to 10/10 was on\", \n",
        "      first_min['date'], \"at\", first_min['time'], \"for $\", first_min['min price'], \"when there were\", first_min['num tickets left'], \"tickets left.\")"
      ],
      "execution_count": 8,
      "outputs": [
        {
          "output_type": "stream",
          "name": "stdout",
          "text": [
            "The lowest selling price for a SUNDAY ONLY ticket from 10/5 to 10/10 was on 10/10/21 at 18:10 for $ 40.0 when there were 13 tickets left.\n"
          ]
        }
      ]
    },
    {
      "cell_type": "code",
      "metadata": {
        "colab": {
          "base_uri": "https://localhost:8080/",
          "height": 335
        },
        "id": "FCgGEEhokY4G",
        "outputId": "c7252e8a-7ada-4506-b3ea-5c373cae3a63"
      },
      "source": [
        "import matplotlib.pyplot as plt\n",
        "\n",
        "three_day_data = pd.read_csv('3day.csv')[\"min price\"]\n",
        "friday_data = pd.read_csv('friday.csv')[\"min price\"]\n",
        "saturday_data = pd.read_csv('saturday.csv')[\"min price\"]\n",
        "sunday_data = df['min price']\n",
        "\n",
        "data = (three_day_data, friday_data, saturday_data, sunday_data)\n",
        "labels = ('3-DAY', 'FRIDAY', 'SATURDAY', 'SUNDAY')\n",
        "\n",
        "plt.boxplot(data)\n",
        "plt.xticks(np.arange(len(labels))+1,labels)\n",
        "plt.title(\"Comparison of Minimum ACL Ticket Price by Ticket Type\")\n",
        "plt.ylabel(\"dollars\")\n",
        "plt.show()\n"
      ],
      "execution_count": 31,
      "outputs": [
        {
          "output_type": "stream",
          "name": "stderr",
          "text": [
            "/usr/local/lib/python3.7/dist-packages/numpy/core/_asarray.py:83: VisibleDeprecationWarning: Creating an ndarray from ragged nested sequences (which is a list-or-tuple of lists-or-tuples-or ndarrays with different lengths or shapes) is deprecated. If you meant to do this, you must specify 'dtype=object' when creating the ndarray\n",
            "  return array(a, dtype, copy=False, order=order)\n"
          ]
        },
        {
          "output_type": "display_data",
          "data": {
            "image/png": "[encoded data removed]",
            "text/plain": [
              "<Figure size 432x288 with 1 Axes>"
            ]
          },
          "metadata": {
            "needs_background": "light"
          }
        }
      ]
    },
    {
      "cell_type": "code",
      "metadata": {
        "id": "XMJCWwOdoW1I"
      },
      "source": [
        ""
      ],
      "execution_count": null,
      "outputs": []
    }
  ]
}