{
  "nbformat": 4,
  "nbformat_minor": 0,
  "metadata": {
    "colab": {
      "name": "ACL - friday only",
      "provenance": [],
      "authorship_tag": "ABX9TyN4f0/sRbPZQsef/GRA1qbt",
      "include_colab_link": true
    },
    "kernelspec": {
      "name": "python3",
      "display_name": "Python 3"
    },
    "language_info": {
      "name": "python"
    }
  },
  "cells": [
    {
      "cell_type": "markdown",
      "metadata": {
        "id": "view-in-github",
        "colab_type": "text"
      },
      "source": [
        "<a href=\"https://colab.research.google.com/github/tatianabarbone/ticket-prices/blob/main/ACL_friday_only.ipynb\" target=\"_parent\"><img src=\"https://colab.research.google.com/assets/colab-badge.svg\" alt=\"Open In Colab\"/></a>"
      ]
    },
    {
      "cell_type": "markdown",
      "metadata": {
        "id": "zMn1eRFVdBzU"
      },
      "source": [
        "Ticket data for FRIDAY ONLY passes."
      ]
    },
    {
      "cell_type": "code",
      "metadata": {
        "colab": {
          "base_uri": "https://localhost:8080/",
          "height": 419
        },
        "id": "_y5rLZwZy7lM",
        "outputId": "8d9f71ec-4509-4e55-a7a7-f69af76a2f97"
      },
      "source": [
        "import pandas as pd\n",
        "df = pd.read_csv('friday.csv')\n",
        "df"
      ],
      "execution_count": 1,
      "outputs": [
        {
          "output_type": "execute_result",
          "data": {
            "text/html": [
              "<div>\n",
              "<style scoped>\n",
              "    .dataframe tbody tr th:only-of-type {\n",
              "        vertical-align: middle;\n",
              "    }\n",
              "\n",
              "    .dataframe tbody tr th {\n",
              "        vertical-align: top;\n",
              "    }\n",
              "\n",
              "    .dataframe thead th {\n",
              "        text-align: right;\n",
              "    }\n",
              "</style>\n",
              "<table border=\"1\" class=\"dataframe\">\n",
              "  <thead>\n",
              "    <tr style=\"text-align: right;\">\n",
              "      <th></th>\n",
              "      <th>date</th>\n",
              "      <th>time</th>\n",
              "      <th>min price</th>\n",
              "      <th>num tickets left</th>\n",
              "    </tr>\n",
              "  </thead>\n",
              "  <tbody>\n",
              "    <tr>\n",
              "      <th>0</th>\n",
              "      <td>10/5/21</td>\n",
              "      <td>20:45</td>\n",
              "      <td>155.0</td>\n",
              "      <td>170</td>\n",
              "    </tr>\n",
              "    <tr>\n",
              "      <th>1</th>\n",
              "      <td>10/5/21</td>\n",
              "      <td>21:15</td>\n",
              "      <td>155.0</td>\n",
              "      <td>170</td>\n",
              "    </tr>\n",
              "    <tr>\n",
              "      <th>2</th>\n",
              "      <td>10/5/21</td>\n",
              "      <td>21:45</td>\n",
              "      <td>155.0</td>\n",
              "      <td>170</td>\n",
              "    </tr>\n",
              "    <tr>\n",
              "      <th>3</th>\n",
              "      <td>10/6/21</td>\n",
              "      <td>7:55</td>\n",
              "      <td>150.0</td>\n",
              "      <td>113</td>\n",
              "    </tr>\n",
              "    <tr>\n",
              "      <th>4</th>\n",
              "      <td>10/6/21</td>\n",
              "      <td>8:27</td>\n",
              "      <td>150.0</td>\n",
              "      <td>113</td>\n",
              "    </tr>\n",
              "    <tr>\n",
              "      <th>...</th>\n",
              "      <td>...</td>\n",
              "      <td>...</td>\n",
              "      <td>...</td>\n",
              "      <td>...</td>\n",
              "    </tr>\n",
              "    <tr>\n",
              "      <th>113</th>\n",
              "      <td>10/8/21</td>\n",
              "      <td>16:45</td>\n",
              "      <td>140.0</td>\n",
              "      <td>48</td>\n",
              "    </tr>\n",
              "    <tr>\n",
              "      <th>114</th>\n",
              "      <td>10/8/21</td>\n",
              "      <td>17:15</td>\n",
              "      <td>135.2</td>\n",
              "      <td>39</td>\n",
              "    </tr>\n",
              "    <tr>\n",
              "      <th>115</th>\n",
              "      <td>10/8/21</td>\n",
              "      <td>17:45</td>\n",
              "      <td>124.8</td>\n",
              "      <td>38</td>\n",
              "    </tr>\n",
              "    <tr>\n",
              "      <th>116</th>\n",
              "      <td>10/8/21</td>\n",
              "      <td>18:15</td>\n",
              "      <td>119.6</td>\n",
              "      <td>32</td>\n",
              "    </tr>\n",
              "    <tr>\n",
              "      <th>117</th>\n",
              "      <td>10/8/21</td>\n",
              "      <td>18:45</td>\n",
              "      <td>114.4</td>\n",
              "      <td>31</td>\n",
              "    </tr>\n",
              "  </tbody>\n",
              "</table>\n",
              "<p>118 rows × 4 columns</p>\n",
              "</div>"
            ],
            "text/plain": [
              "        date   time  min price  num tickets left\n",
              "0    10/5/21  20:45      155.0               170\n",
              "1    10/5/21  21:15      155.0               170\n",
              "2    10/5/21  21:45      155.0               170\n",
              "3    10/6/21   7:55      150.0               113\n",
              "4    10/6/21   8:27      150.0               113\n",
              "..       ...    ...        ...               ...\n",
              "113  10/8/21  16:45      140.0                48\n",
              "114  10/8/21  17:15      135.2                39\n",
              "115  10/8/21  17:45      124.8                38\n",
              "116  10/8/21  18:15      119.6                32\n",
              "117  10/8/21  18:45      114.4                31\n",
              "\n",
              "[118 rows x 4 columns]"
            ]
          },
          "metadata": {},
          "execution_count": 1
        }
      ]
    },
    {
      "cell_type": "markdown",
      "metadata": {
        "id": "I9XWgdRScOq9"
      },
      "source": [
        "To get a better idea of the distribution of the minimum ticket prices, we'll use the describe function to show the 5-number summary."
      ]
    },
    {
      "cell_type": "code",
      "metadata": {
        "colab": {
          "base_uri": "https://localhost:8080/"
        },
        "id": "NzDXZUt3Na5U",
        "outputId": "c784b914-7928-419d-aeca-d40a06ab94c7"
      },
      "source": [
        "import numpy as np\n",
        "\n",
        "df['min price'].describe()"
      ],
      "execution_count": 2,
      "outputs": [
        {
          "output_type": "execute_result",
          "data": {
            "text/plain": [
              "count    118.000000\n",
              "mean     142.327288\n",
              "std        9.378052\n",
              "min      114.400000\n",
              "25%      135.900000\n",
              "50%      145.000000\n",
              "75%      150.000000\n",
              "max      155.000000\n",
              "Name: min price, dtype: float64"
            ]
          },
          "metadata": {},
          "execution_count": 2
        }
      ]
    },
    {
      "cell_type": "markdown",
      "metadata": {
        "id": "EYoxXzexNnQR"
      },
      "source": [
        "This box-and-whisker plot shows the spread of the minimum ticket price data."
      ]
    },
    {
      "cell_type": "code",
      "metadata": {
        "colab": {
          "base_uri": "https://localhost:8080/",
          "height": 298
        },
        "id": "iVCVizsbJh84",
        "outputId": "09c38028-5b3a-4ab0-f3e3-300117fc21dd"
      },
      "source": [
        "ax = df['min price'].plot.box()\n",
        "ax.set_ylabel('dollars')\n",
        "ax.set_title(\"FRIDAY ONLY Minimum Ticket Price\")"
      ],
      "execution_count": 3,
      "outputs": [
        {
          "output_type": "execute_result",
          "data": {
            "text/plain": [
              "Text(0.5, 1.0, 'FRIDAY ONLY Minimum Ticket Price')"
            ]
          },
          "metadata": {},
          "execution_count": 3
        },
        {
          "output_type": "display_data",
          "data": {
            "image/png": "[encoded data removed]",
            "text/plain": [
              "<Figure size 432x288 with 1 Axes>"
            ]
          },
          "metadata": {
            "needs_background": "light"
          }
        }
      ]
    },
    {
      "cell_type": "markdown",
      "metadata": {
        "id": "vXMl-Z6ZiDTZ"
      },
      "source": [
        "We've got an outlier!"
      ]
    },
    {
      "cell_type": "markdown",
      "metadata": {
        "id": "HKOAuv71N2uz"
      },
      "source": [
        "When was the best time to buy a ticket?"
      ]
    },
    {
      "cell_type": "code",
      "metadata": {
        "colab": {
          "base_uri": "https://localhost:8080/",
          "height": 80
        },
        "id": "nDf_6HqJaCd6",
        "outputId": "9f0de35d-9102-4ee6-dfd8-951e12728904"
      },
      "source": [
        "min_data = df[df['min price'] == df['min price'].min()]\n",
        "min_data"
      ],
      "execution_count": 4,
      "outputs": [
        {
          "output_type": "execute_result",
          "data": {
            "text/html": [
              "<div>\n",
              "<style scoped>\n",
              "    .dataframe tbody tr th:only-of-type {\n",
              "        vertical-align: middle;\n",
              "    }\n",
              "\n",
              "    .dataframe tbody tr th {\n",
              "        vertical-align: top;\n",
              "    }\n",
              "\n",
              "    .dataframe thead th {\n",
              "        text-align: right;\n",
              "    }\n",
              "</style>\n",
              "<table border=\"1\" class=\"dataframe\">\n",
              "  <thead>\n",
              "    <tr style=\"text-align: right;\">\n",
              "      <th></th>\n",
              "      <th>date</th>\n",
              "      <th>time</th>\n",
              "      <th>min price</th>\n",
              "      <th>num tickets left</th>\n",
              "    </tr>\n",
              "  </thead>\n",
              "  <tbody>\n",
              "    <tr>\n",
              "      <th>117</th>\n",
              "      <td>10/8/21</td>\n",
              "      <td>18:45</td>\n",
              "      <td>114.4</td>\n",
              "      <td>31</td>\n",
              "    </tr>\n",
              "  </tbody>\n",
              "</table>\n",
              "</div>"
            ],
            "text/plain": [
              "        date   time  min price  num tickets left\n",
              "117  10/8/21  18:45      114.4                31"
            ]
          },
          "metadata": {},
          "execution_count": 4
        }
      ]
    },
    {
      "cell_type": "code",
      "metadata": {
        "colab": {
          "base_uri": "https://localhost:8080/"
        },
        "id": "i0BKR3tWaycy",
        "outputId": "f84842e5-e46a-4d41-f6e5-39913fc5e641"
      },
      "source": [
        "first_min = min_data.iloc[0]\n",
        "first_min"
      ],
      "execution_count": 10,
      "outputs": [
        {
          "output_type": "execute_result",
          "data": {
            "text/plain": [
              "date                10/8/21\n",
              "time                  18:45\n",
              "min price             114.4\n",
              "num tickets left         31\n",
              "Name: 117, dtype: object"
            ]
          },
          "metadata": {},
          "execution_count": 10
        }
      ]
    },
    {
      "cell_type": "markdown",
      "metadata": {
        "id": "6JMWxz9RTUDA"
      },
      "source": [
        "In a more human-readable format:"
      ]
    },
    {
      "cell_type": "code",
      "metadata": {
        "colab": {
          "base_uri": "https://localhost:8080/"
        },
        "id": "5gIl5atS0Llz",
        "outputId": "9a10bbe4-0047-4de3-9d5d-deada1482679"
      },
      "source": [
        "print(\"The lowest selling price for a FRIDAY ONLY ticket from 10/5 to 10/8 was on\", \n",
        "      first_min['date'], \"at\", first_min['time'], \"for $\", first_min['min price'], \"when there were\", first_min['num tickets left'], \"tickets left.\")"
      ],
      "execution_count": 9,
      "outputs": [
        {
          "output_type": "stream",
          "name": "stdout",
          "text": [
            "The lowest selling price for a FRIDAY ONLY ticket from 10/5 to 10/8 was on 10/8/21 at 18:45 for $ 114.4 when there were 31 tickets left.\n"
          ]
        }
      ]
    }
  ]
}