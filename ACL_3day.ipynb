{
  "nbformat": 4,
  "nbformat_minor": 0,
  "metadata": {
    "colab": {
      "name": "ACL - 3day",
      "provenance": [],
      "authorship_tag": "ABX9TyMkEud/ZUdOUP67v8V0B4zo",
      "include_colab_link": true
    },
    "kernelspec": {
      "name": "python3",
      "display_name": "Python 3"
    },
    "language_info": {
      "name": "python"
    }
  },
  "cells": [
    {
      "cell_type": "markdown",
      "metadata": {
        "id": "view-in-github",
        "colab_type": "text"
      },
      "source": [
        "<a href=\"https://colab.research.google.com/github/tatianabarbone/ticket-prices/blob/main/ACL_3day.ipynb\" target=\"_parent\"><img src=\"https://colab.research.google.com/assets/colab-badge.svg\" alt=\"Open In Colab\"/></a>"
      ]
    },
    {
      "cell_type": "markdown",
      "metadata": {
        "id": "zMn1eRFVdBzU"
      },
      "source": [
        "Ticket data for 3-day passes."
      ]
    },
    {
      "cell_type": "code",
      "metadata": {
        "colab": {
          "base_uri": "https://localhost:8080/",
          "height": 419
        },
        "id": "_y5rLZwZy7lM",
        "outputId": "1de0e79f-5227-4115-d3fb-206a65ab9025"
      },
      "source": [
        "import pandas as pd\n",
        "df = pd.read_csv('3day.csv')\n",
        "df"
      ],
      "execution_count": 76,
      "outputs": [
        {
          "output_type": "execute_result",
          "data": {
            "text/html": [
              "<div>\n",
              "<style scoped>\n",
              "    .dataframe tbody tr th:only-of-type {\n",
              "        vertical-align: middle;\n",
              "    }\n",
              "\n",
              "    .dataframe tbody tr th {\n",
              "        vertical-align: top;\n",
              "    }\n",
              "\n",
              "    .dataframe thead th {\n",
              "        text-align: right;\n",
              "    }\n",
              "</style>\n",
              "<table border=\"1\" class=\"dataframe\">\n",
              "  <thead>\n",
              "    <tr style=\"text-align: right;\">\n",
              "      <th></th>\n",
              "      <th>date</th>\n",
              "      <th>time</th>\n",
              "      <th>min price</th>\n",
              "      <th>num tickets left</th>\n",
              "    </tr>\n",
              "  </thead>\n",
              "  <tbody>\n",
              "    <tr>\n",
              "      <th>0</th>\n",
              "      <td>10/5/21</td>\n",
              "      <td>17:43</td>\n",
              "      <td>215.0</td>\n",
              "      <td>154</td>\n",
              "    </tr>\n",
              "    <tr>\n",
              "      <th>1</th>\n",
              "      <td>10/5/21</td>\n",
              "      <td>18:08</td>\n",
              "      <td>215.0</td>\n",
              "      <td>154</td>\n",
              "    </tr>\n",
              "    <tr>\n",
              "      <th>2</th>\n",
              "      <td>10/5/21</td>\n",
              "      <td>18:38</td>\n",
              "      <td>223.0</td>\n",
              "      <td>153</td>\n",
              "    </tr>\n",
              "    <tr>\n",
              "      <th>3</th>\n",
              "      <td>10/5/21</td>\n",
              "      <td>19:08</td>\n",
              "      <td>223.0</td>\n",
              "      <td>159</td>\n",
              "    </tr>\n",
              "    <tr>\n",
              "      <th>4</th>\n",
              "      <td>10/5/21</td>\n",
              "      <td>19:39</td>\n",
              "      <td>223.0</td>\n",
              "      <td>170</td>\n",
              "    </tr>\n",
              "    <tr>\n",
              "      <th>...</th>\n",
              "      <td>...</td>\n",
              "      <td>...</td>\n",
              "      <td>...</td>\n",
              "      <td>...</td>\n",
              "    </tr>\n",
              "    <tr>\n",
              "      <th>374</th>\n",
              "      <td>10/9/21</td>\n",
              "      <td>17:57</td>\n",
              "      <td>206.0</td>\n",
              "      <td>32</td>\n",
              "    </tr>\n",
              "    <tr>\n",
              "      <th>375</th>\n",
              "      <td>10/9/21</td>\n",
              "      <td>18:32</td>\n",
              "      <td>150.0</td>\n",
              "      <td>32</td>\n",
              "    </tr>\n",
              "    <tr>\n",
              "      <th>376</th>\n",
              "      <td>10/9/21</td>\n",
              "      <td>18:39</td>\n",
              "      <td>150.0</td>\n",
              "      <td>32</td>\n",
              "    </tr>\n",
              "    <tr>\n",
              "      <th>377</th>\n",
              "      <td>10/9/21</td>\n",
              "      <td>18:46</td>\n",
              "      <td>150.0</td>\n",
              "      <td>32</td>\n",
              "    </tr>\n",
              "    <tr>\n",
              "      <th>378</th>\n",
              "      <td>10/9/21</td>\n",
              "      <td>18:53</td>\n",
              "      <td>150.0</td>\n",
              "      <td>32</td>\n",
              "    </tr>\n",
              "  </tbody>\n",
              "</table>\n",
              "<p>379 rows × 4 columns</p>\n",
              "</div>"
            ],
            "text/plain": [
              "        date   time  min price  num tickets left\n",
              "0    10/5/21  17:43      215.0               154\n",
              "1    10/5/21  18:08      215.0               154\n",
              "2    10/5/21  18:38      223.0               153\n",
              "3    10/5/21  19:08      223.0               159\n",
              "4    10/5/21  19:39      223.0               170\n",
              "..       ...    ...        ...               ...\n",
              "374  10/9/21  17:57      206.0                32\n",
              "375  10/9/21  18:32      150.0                32\n",
              "376  10/9/21  18:39      150.0                32\n",
              "377  10/9/21  18:46      150.0                32\n",
              "378  10/9/21  18:53      150.0                32\n",
              "\n",
              "[379 rows x 4 columns]"
            ]
          },
          "metadata": {},
          "execution_count": 76
        }
      ]
    },
    {
      "cell_type": "markdown",
      "metadata": {
        "id": "I9XWgdRScOq9"
      },
      "source": [
        "To get a better idea of the distribution of the minimum ticket prices, we'll use the describe function to show the 5-number summary."
      ]
    },
    {
      "cell_type": "code",
      "metadata": {
        "colab": {
          "base_uri": "https://localhost:8080/"
        },
        "id": "NzDXZUt3Na5U",
        "outputId": "294074bc-d6ad-4f72-b9fa-73f2787d69d5"
      },
      "source": [
        "import numpy as np\n",
        "\n",
        "df['min price'].describe()"
      ],
      "execution_count": 77,
      "outputs": [
        {
          "output_type": "execute_result",
          "data": {
            "text/plain": [
              "count    379.000000\n",
              "mean     202.549525\n",
              "std       32.353102\n",
              "min      150.000000\n",
              "25%      170.000000\n",
              "50%      210.000000\n",
              "75%      230.945000\n",
              "max      267.000000\n",
              "Name: min price, dtype: float64"
            ]
          },
          "metadata": {},
          "execution_count": 77
        }
      ]
    },
    {
      "cell_type": "markdown",
      "metadata": {
        "id": "EYoxXzexNnQR"
      },
      "source": [
        "This box-and-whisker plot shows the spread of the minimum ticket price data."
      ]
    },
    {
      "cell_type": "code",
      "metadata": {
        "colab": {
          "base_uri": "https://localhost:8080/",
          "height": 298
        },
        "id": "iVCVizsbJh84",
        "outputId": "119898f5-5409-442f-fd25-c44c76f01a97"
      },
      "source": [
        "ax = df['min price'].plot.box()\n",
        "ax.set_ylabel('dollars')\n",
        "ax.set_title(\"3-day Minimum Ticket Price\")"
      ],
      "execution_count": 62,
      "outputs": [
        {
          "output_type": "execute_result",
          "data": {
            "text/plain": [
              "Text(0.5, 1.0, '3-day Minimum Ticket Price')"
            ]
          },
          "metadata": {},
          "execution_count": 62
        },
        {
          "output_type": "display_data",
          "data": {
            "image/png": "[encoded data removed]",
            "text/plain": [
              "<Figure size 432x288 with 1 Axes>"
            ]
          },
          "metadata": {
            "needs_background": "light"
          }
        }
      ]
    },
    {
      "cell_type": "markdown",
      "metadata": {
        "id": "HKOAuv71N2uz"
      },
      "source": [
        "When was the best time to buy a ticket?"
      ]
    },
    {
      "cell_type": "code",
      "metadata": {
        "colab": {
          "base_uri": "https://localhost:8080/",
          "height": 452
        },
        "id": "nDf_6HqJaCd6",
        "outputId": "b96748e9-b9d7-4706-e073-b7afa8a1a7b4"
      },
      "source": [
        "min_data = df[df['min price'] == df['min price'].min()]\n",
        "min_data"
      ],
      "execution_count": 96,
      "outputs": [
        {
          "output_type": "execute_result",
          "data": {
            "text/html": [
              "<div>\n",
              "<style scoped>\n",
              "    .dataframe tbody tr th:only-of-type {\n",
              "        vertical-align: middle;\n",
              "    }\n",
              "\n",
              "    .dataframe tbody tr th {\n",
              "        vertical-align: top;\n",
              "    }\n",
              "\n",
              "    .dataframe thead th {\n",
              "        text-align: right;\n",
              "    }\n",
              "</style>\n",
              "<table border=\"1\" class=\"dataframe\">\n",
              "  <thead>\n",
              "    <tr style=\"text-align: right;\">\n",
              "      <th></th>\n",
              "      <th>date</th>\n",
              "      <th>time</th>\n",
              "      <th>min price</th>\n",
              "      <th>num tickets left</th>\n",
              "    </tr>\n",
              "  </thead>\n",
              "  <tbody>\n",
              "    <tr>\n",
              "      <th>335</th>\n",
              "      <td>10/9/21</td>\n",
              "      <td>13:02</td>\n",
              "      <td>150.0</td>\n",
              "      <td>58</td>\n",
              "    </tr>\n",
              "    <tr>\n",
              "      <th>336</th>\n",
              "      <td>10/9/21</td>\n",
              "      <td>13:09</td>\n",
              "      <td>150.0</td>\n",
              "      <td>58</td>\n",
              "    </tr>\n",
              "    <tr>\n",
              "      <th>337</th>\n",
              "      <td>10/9/21</td>\n",
              "      <td>13:16</td>\n",
              "      <td>150.0</td>\n",
              "      <td>49</td>\n",
              "    </tr>\n",
              "    <tr>\n",
              "      <th>338</th>\n",
              "      <td>10/9/21</td>\n",
              "      <td>13:23</td>\n",
              "      <td>150.0</td>\n",
              "      <td>50</td>\n",
              "    </tr>\n",
              "    <tr>\n",
              "      <th>339</th>\n",
              "      <td>10/9/21</td>\n",
              "      <td>13:30</td>\n",
              "      <td>150.0</td>\n",
              "      <td>48</td>\n",
              "    </tr>\n",
              "    <tr>\n",
              "      <th>340</th>\n",
              "      <td>10/9/21</td>\n",
              "      <td>13:37</td>\n",
              "      <td>150.0</td>\n",
              "      <td>48</td>\n",
              "    </tr>\n",
              "    <tr>\n",
              "      <th>341</th>\n",
              "      <td>10/9/21</td>\n",
              "      <td>13:44</td>\n",
              "      <td>150.0</td>\n",
              "      <td>48</td>\n",
              "    </tr>\n",
              "    <tr>\n",
              "      <th>342</th>\n",
              "      <td>10/9/21</td>\n",
              "      <td>13:51</td>\n",
              "      <td>150.0</td>\n",
              "      <td>46</td>\n",
              "    </tr>\n",
              "    <tr>\n",
              "      <th>343</th>\n",
              "      <td>10/9/21</td>\n",
              "      <td>13:58</td>\n",
              "      <td>150.0</td>\n",
              "      <td>42</td>\n",
              "    </tr>\n",
              "    <tr>\n",
              "      <th>375</th>\n",
              "      <td>10/9/21</td>\n",
              "      <td>18:32</td>\n",
              "      <td>150.0</td>\n",
              "      <td>32</td>\n",
              "    </tr>\n",
              "    <tr>\n",
              "      <th>376</th>\n",
              "      <td>10/9/21</td>\n",
              "      <td>18:39</td>\n",
              "      <td>150.0</td>\n",
              "      <td>32</td>\n",
              "    </tr>\n",
              "    <tr>\n",
              "      <th>377</th>\n",
              "      <td>10/9/21</td>\n",
              "      <td>18:46</td>\n",
              "      <td>150.0</td>\n",
              "      <td>32</td>\n",
              "    </tr>\n",
              "    <tr>\n",
              "      <th>378</th>\n",
              "      <td>10/9/21</td>\n",
              "      <td>18:53</td>\n",
              "      <td>150.0</td>\n",
              "      <td>32</td>\n",
              "    </tr>\n",
              "  </tbody>\n",
              "</table>\n",
              "</div>"
            ],
            "text/plain": [
              "        date   time  min price  num tickets left\n",
              "335  10/9/21  13:02      150.0                58\n",
              "336  10/9/21  13:09      150.0                58\n",
              "337  10/9/21  13:16      150.0                49\n",
              "338  10/9/21  13:23      150.0                50\n",
              "339  10/9/21  13:30      150.0                48\n",
              "340  10/9/21  13:37      150.0                48\n",
              "341  10/9/21  13:44      150.0                48\n",
              "342  10/9/21  13:51      150.0                46\n",
              "343  10/9/21  13:58      150.0                42\n",
              "375  10/9/21  18:32      150.0                32\n",
              "376  10/9/21  18:39      150.0                32\n",
              "377  10/9/21  18:46      150.0                32\n",
              "378  10/9/21  18:53      150.0                32"
            ]
          },
          "metadata": {},
          "execution_count": 96
        }
      ]
    },
    {
      "cell_type": "markdown",
      "metadata": {
        "id": "fdYA0Gdfb_Um"
      },
      "source": [
        "There were multiple times where the minimum ticket price was $150, so we'll take just the first one."
      ]
    },
    {
      "cell_type": "code",
      "metadata": {
        "colab": {
          "base_uri": "https://localhost:8080/"
        },
        "id": "i0BKR3tWaycy",
        "outputId": "56574023-9166-4d3c-d4e1-4c1e021a5eee"
      },
      "source": [
        "first_min = min_data.iloc[0]\n",
        "first_min"
      ],
      "execution_count": 101,
      "outputs": [
        {
          "output_type": "execute_result",
          "data": {
            "text/plain": [
              "date                10/9/21\n",
              "time                  13:02\n",
              "min price               150\n",
              "num tickets left         58\n",
              "Name: 335, dtype: object"
            ]
          },
          "metadata": {},
          "execution_count": 101
        }
      ]
    },
    {
      "cell_type": "markdown",
      "metadata": {
        "id": "6JMWxz9RTUDA"
      },
      "source": [
        "In a more human-readable format:"
      ]
    },
    {
      "cell_type": "code",
      "metadata": {
        "colab": {
          "base_uri": "https://localhost:8080/"
        },
        "id": "5gIl5atS0Llz",
        "outputId": "2e6239a1-9b4d-4068-c9d5-a2651d81ac3e"
      },
      "source": [
        "print(\"The lowest selling price for a 3-day ticket from 10/5 to 10/9 was on\", \n",
        "      first_min['date'], \"at\", first_min['time'], \"for $\", first_min['min price'], \"when there were\", first_min['num tickets left'], \"tickets left.\")"
      ],
      "execution_count": 102,
      "outputs": [
        {
          "output_type": "stream",
          "name": "stdout",
          "text": [
            "The lowest selling price for a 3-day ticket from 10/5 to 10/9 was on 10/9/21 at 13:02 for $ 150.0 when there were 58 tickets left.\n"
          ]
        }
      ]
    }
  ]
}